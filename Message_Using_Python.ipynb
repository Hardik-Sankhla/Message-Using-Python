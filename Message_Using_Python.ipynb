{
  "nbformat": 4,
  "nbformat_minor": 0,
  "metadata": {
    "colab": {
      "provenance": [],
      "authorship_tag": "ABX9TyM5BXVg1LCDNtLU6XK6umL4",
      "include_colab_link": true
    },
    "kernelspec": {
      "name": "python3",
      "display_name": "Python 3"
    },
    "language_info": {
      "name": "python"
    }
  },
  "cells": [
    {
      "cell_type": "markdown",
      "metadata": {
        "id": "view-in-github",
        "colab_type": "text"
      },
      "source": [
        "<a href=\"https://colab.research.google.com/github/hardiksankhla786/Message-Using-Python/blob/main/Message_Using_Python.ipynb\" target=\"_parent\"><img src=\"https://colab.research.google.com/assets/colab-badge.svg\" alt=\"Open In Colab\"/></a>"
      ]
    },
    {
      "cell_type": "code",
      "source": [
        "pip install twilio"
      ],
      "metadata": {
        "id": "sJAEwj1zqtbB"
      },
      "execution_count": null,
      "outputs": []
    },
    {
      "cell_type": "code",
      "source": [
        "from twilio.rest import Client\n",
        "\n",
        "# Replace these with your Twilio account credentials\n",
        "account_sid = \"**********************************\"\n",
        "auth_token = \"********************************\"\n",
        "twilio_phone_number = \"+17622544527\"\n",
        "\n",
        "# List of receiver phone numbers\n",
        "receiver_phone_numbers = [\n",
        "    \"+91902*******\",\n",
        "    \"+91637*******\",\n",
        "    \"+91982*******\",\n",
        "    # Add more phone numbers here\n",
        "]\n",
        "\n",
        "def send_sms(message, to_numbers):\n",
        "    try:\n",
        "        client = Client(account_sid, auth_token)\n",
        "        for phone_number in to_numbers:\n",
        "            message = client.messages.create(\n",
        "                body= \"Hey There This is Hardik, Thank You for Being My Favourite!!\",\n",
        "                from_=twilio_phone_number,\n",
        "                to=receiver_phone_numbers\n",
        "            )\n",
        "            print(f\"SMS sent successfully to {phone_number}! SID: {message.sid}\")\n",
        "    except Exception as e:\n",
        "        print(f\"Failed to send SMS: {e}\")\n",
        "\n",
        "if __name__ == \"__main__\":\n",
        "    message_text = \"Hello, this is a test SMS sent via Twilio!\"\n",
        "    send_sms(message_text, receiver_phone_numbers)\n"
      ],
      "metadata": {
        "id": "jktsO5SEqtiq",
        "colab": {
          "base_uri": "https://localhost:8080/"
        },
        "outputId": "4e28c7c3-bd09-4776-a1bb-6487753277bf"
      },
      "execution_count": 12,
      "outputs": [
        {
          "output_type": "stream",
          "name": "stdout",
          "text": [
            "SMS sent successfully to +919024317887! SID: SM3cc00923e1ed976bccdfbfb4ed1882ad\n",
            "SMS sent successfully to +916377979802! SID: SM2303ea280e97987204232ba4e7345555\n",
            "SMS sent successfully to +919829105405! SID: SMa7373ec9c751bbf7ae0fa80bdc1497ed\n"
          ]
        }
      ]
    },
    {
      "cell_type": "code",
      "source": [],
      "metadata": {
        "id": "VQZiKg_2qunL"
      },
      "execution_count": null,
      "outputs": []
    },
    {
      "cell_type": "code",
      "source": [],
      "metadata": {
        "id": "AteT3FB6tE9G"
      },
      "execution_count": null,
      "outputs": []
    }
  ]
}