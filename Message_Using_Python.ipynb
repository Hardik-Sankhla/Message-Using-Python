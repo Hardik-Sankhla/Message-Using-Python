{
  "nbformat": 4,
  "nbformat_minor": 0,
  "metadata": {
    "colab": {
      "provenance": [],
      "authorship_tag": "ABX9TyO7Y7Ul6Jgcz48M5rx6y8CY",
      "include_colab_link": true
    },
    "kernelspec": {
      "name": "python3",
      "display_name": "Python 3"
    },
    "language_info": {
      "name": "python"
    }
  },
  "cells": [
    {
      "cell_type": "markdown",
      "metadata": {
        "id": "view-in-github",
        "colab_type": "text"
      },
      "source": [
        "<a href=\"https://colab.research.google.com/github/hardiksankhla786/Message-Using-Python/blob/main/Message_Using_Python.ipynb\" target=\"_parent\"><img src=\"https://colab.research.google.com/assets/colab-badge.svg\" alt=\"Open In Colab\"/></a>"
      ]
    },
    {
      "cell_type": "code",
      "source": [
        "pip install twilio"
      ],
      "metadata": {
        "id": "sJAEwj1zqtbB",
        "colab": {
          "base_uri": "https://localhost:8080/"
        },
        "outputId": "f84f5423-1e76-4a80-a0ef-4b125a80c0ae"
      },
      "execution_count": 9,
      "outputs": [
        {
          "output_type": "stream",
          "name": "stdout",
          "text": [
            "Requirement already satisfied: twilio in /usr/local/lib/python3.10/dist-packages (8.5.0)\n",
            "Requirement already satisfied: pytz in /usr/local/lib/python3.10/dist-packages (from twilio) (2022.7.1)\n",
            "Requirement already satisfied: requests>=2.0.0 in /usr/local/lib/python3.10/dist-packages (from twilio) (2.27.1)\n",
            "Requirement already satisfied: PyJWT<3.0.0,>=2.0.0 in /usr/lib/python3/dist-packages (from twilio) (2.3.0)\n",
            "Requirement already satisfied: aiohttp>=3.8.4 in /usr/local/lib/python3.10/dist-packages (from twilio) (3.8.5)\n",
            "Requirement already satisfied: aiohttp-retry>=2.8.3 in /usr/local/lib/python3.10/dist-packages (from twilio) (2.8.3)\n",
            "Requirement already satisfied: attrs>=17.3.0 in /usr/local/lib/python3.10/dist-packages (from aiohttp>=3.8.4->twilio) (23.1.0)\n",
            "Requirement already satisfied: charset-normalizer<4.0,>=2.0 in /usr/local/lib/python3.10/dist-packages (from aiohttp>=3.8.4->twilio) (2.0.12)\n",
            "Requirement already satisfied: multidict<7.0,>=4.5 in /usr/local/lib/python3.10/dist-packages (from aiohttp>=3.8.4->twilio) (6.0.4)\n",
            "Requirement already satisfied: async-timeout<5.0,>=4.0.0a3 in /usr/local/lib/python3.10/dist-packages (from aiohttp>=3.8.4->twilio) (4.0.2)\n",
            "Requirement already satisfied: yarl<2.0,>=1.0 in /usr/local/lib/python3.10/dist-packages (from aiohttp>=3.8.4->twilio) (1.9.2)\n",
            "Requirement already satisfied: frozenlist>=1.1.1 in /usr/local/lib/python3.10/dist-packages (from aiohttp>=3.8.4->twilio) (1.4.0)\n",
            "Requirement already satisfied: aiosignal>=1.1.2 in /usr/local/lib/python3.10/dist-packages (from aiohttp>=3.8.4->twilio) (1.3.1)\n",
            "Requirement already satisfied: urllib3<1.27,>=1.21.1 in /usr/local/lib/python3.10/dist-packages (from requests>=2.0.0->twilio) (1.26.16)\n",
            "Requirement already satisfied: certifi>=2017.4.17 in /usr/local/lib/python3.10/dist-packages (from requests>=2.0.0->twilio) (2023.7.22)\n",
            "Requirement already satisfied: idna<4,>=2.5 in /usr/local/lib/python3.10/dist-packages (from requests>=2.0.0->twilio) (3.4)\n"
          ]
        }
      ]
    },
    {
      "cell_type": "code",
      "source": [
        "from twilio.rest import Client\n",
        "\n",
        "# Replace these with your Twilio account credentials\n",
        "account_sid = \"*********************************\"\n",
        "auth_token = \"********************************\"\n",
        "twilio_phone_number = \"+17622544527\"\n",
        "\n",
        "# List of receiver phone numbers\n",
        "receiver_phone_numbers = [\n",
        "    \"+91902*******\",\n",
        "    \"+91637*******\",\n",
        "    \"+91982*******\",\n",
        "    # Add more phone numbers here\n",
        "]\n",
        "\n",
        "def send_sms(message, to_numbers):\n",
        "    try:\n",
        "        client = Client(account_sid, auth_token)\n",
        "        for phone_number in to_numbers:\n",
        "            message = client.messages.create(\n",
        "                body= \"Hey There This is Hardik, Thank You for Being My Favourite!!\",\n",
        "                from_=twilio_phone_number,\n",
        "                to=receiver_phone_numbers\n",
        "            )\n",
        "            print(f\"SMS sent successfully to {phone_number}! SID: {message.sid}\")\n",
        "    except Exception as e:\n",
        "        print(f\"Failed to send SMS: {e}\")\n",
        "\n",
        "if __name__ == \"__main__\":\n",
        "    message_text = \"Hello, this is a test SMS sent via Twilio!\"\n",
        "    send_sms(message_text, receiver_phone_numbers)\n"
      ],
      "metadata": {
        "id": "jktsO5SEqtiq"
      },
      "execution_count": null,
      "outputs": []
    },
    {
      "cell_type": "code",
      "source": [],
      "metadata": {
        "id": "VQZiKg_2qunL"
      },
      "execution_count": null,
      "outputs": []
    },
    {
      "cell_type": "code",
      "source": [],
      "metadata": {
        "id": "AteT3FB6tE9G"
      },
      "execution_count": null,
      "outputs": []
    }
  ]
}